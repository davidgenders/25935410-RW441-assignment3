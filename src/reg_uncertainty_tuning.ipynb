{
  "cells": [
    {
      "cell_type": "code",
      "execution_count": null,
      "metadata": {},
      "outputs": [],
      "source": [
        "# Active Learning Exploration - Regression (Uncertainty) with Cross-Validation\n",
        "import os\n",
        "import json\n",
        "import itertools\n",
        "import numpy as np\n",
        "import matplotlib.pyplot as plt\n",
        "from sklearn.model_selection import KFold\n",
        "from typing import Dict, List\n",
        "import torch\n",
        "from tqdm import tqdm\n",
        "import time\n",
        "\n",
        "from alnn.experiments import ActiveConfig, run_active_regression\n",
        "from alnn.training import TrainConfig\n",
        "\n",
        "SAVE_DIR = os.path.join('..', 'report', 'figures')\n",
        "os.makedirs(SAVE_DIR, exist_ok=True)\n",
        "\n",
        "DATASETS = ['diabetes', 'linnerud', 'california']\n",
        "METHODS = ['entropy', 'margin', 'least_confidence']  # kept for API symmetry; regression uses proxy\n",
        "BUDGETS = [40, 80, 120, 160, 200]\n",
        "N_TRIALS = 5  # Number of random seeds for each config\n",
        "N_FOLDS = 3  # Number of CV folds (reduced for active learning)\n",
        "\n",
        "# More conservative LR range for regression\n",
        "LRS = [1e-4, 3e-4, 1e-3, 3e-3]\n",
        "WDS = [0.0, 1e-5, 1e-4]\n",
        "HIDDENS = [32, 64, 128]\n",
        "BSS = [32, 64]\n",
        "INITS = [10, 20, 40]\n",
        "QUERIES = [5, 10, 20]\n"
      ]
    }
  ],
  "metadata": {
    "language_info": {
      "name": "python"
    }
  },
  "nbformat": 4,
  "nbformat_minor": 2
}
